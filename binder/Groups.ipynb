{
 "cells": [
  {
   "cell_type": "markdown",
   "id": "b02e14fd-2527-4cb4-bfbe-f6934da4a780",
   "metadata": {},
   "source": [
    "# Simple notebook for opening a h5-dataset with nested Groups"
   ]
  },
  {
   "cell_type": "code",
   "execution_count": 1,
   "id": "9934fb81-5226-41fe-8e7b-6dbf2478d73d",
   "metadata": {},
   "outputs": [],
   "source": [
    "import numpy as np\n",
    "import matplotlib.pyplot as plt\n",
    "from pydap.client import open_url"
   ]
  },
  {
   "cell_type": "code",
   "execution_count": 4,
   "id": "660b0974-8873-4825-a2a5-aa66b91e3179",
   "metadata": {},
   "outputs": [
    {
     "data": {
      "text/plain": [
       "'http://test.opendap.org:8080/opendap/dmrpp_test_files/ATL03_20181228015957_13810110_003_01.2var.h5.dmrpp'"
      ]
     },
     "execution_count": 4,
     "metadata": {},
     "output_type": "execute_result"
    }
   ],
   "source": [
    "url = 'http://test.opendap.org:8080/opendap/dmrpp_test_files/ATL03_20181228015957_13810110_003_01.2var.h5.dmrpp'\n",
    "url"
   ]
  },
  {
   "cell_type": "code",
   "execution_count": 6,
   "id": "f62b2126-71c7-4e54-8448-4b5d183be759",
   "metadata": {},
   "outputs": [
    {
     "name": "stdout",
     "output_type": "stream",
     "text": [
      "CPU times: user 17.5 ms, sys: 8.74 ms, total: 26.2 ms\n",
      "Wall time: 534 ms\n"
     ]
    }
   ],
   "source": [
    "%%time\n",
    "ds = open_url(url, protocol='dap4')"
   ]
  },
  {
   "cell_type": "code",
   "execution_count": 9,
   "id": "d55fc410-464c-483b-9067-4a96e9d850a9",
   "metadata": {},
   "outputs": [
    {
     "data": {
      "text/plain": [
       "<GroupType with children 'lat_ph', 'delta_time'>"
      ]
     },
     "execution_count": 9,
     "metadata": {},
     "output_type": "execute_result"
    }
   ],
   "source": [
    "ds['gt1r/heights']"
   ]
  },
  {
   "cell_type": "code",
   "execution_count": 13,
   "id": "e0140ab1-be1c-4ba1-afa8-3f183d18b657",
   "metadata": {},
   "outputs": [
    {
     "name": "stdout",
     "output_type": "stream",
     "text": [
      "CPU times: user 29.1 ms, sys: 14.3 ms, total: 43.4 ms\n",
      "Wall time: 950 ms\n"
     ]
    },
    {
     "data": {
      "text/plain": [
       "<BaseType with data array([31197611.26648983, 31197611.27148983, 31197611.27648983, ...,\n",
       "       31198058.70150019, 31198058.70650019, 31198058.71150019])>"
      ]
     },
     "execution_count": 13,
     "metadata": {},
     "output_type": "execute_result"
    }
   ],
   "source": [
    "%%time \n",
    "ds['gt1r/bckgrd_atlas']['delta_time'][:]"
   ]
  },
  {
   "cell_type": "code",
   "execution_count": null,
   "id": "ae5d24ee-9d56-42d3-82d4-af416427c4d9",
   "metadata": {},
   "outputs": [],
   "source": []
  }
 ],
 "metadata": {
  "kernelspec": {
   "display_name": "Python 3 (ipykernel)",
   "language": "python",
   "name": "python3"
  },
  "language_info": {
   "codemirror_mode": {
    "name": "ipython",
    "version": 3
   },
   "file_extension": ".py",
   "mimetype": "text/x-python",
   "name": "python",
   "nbconvert_exporter": "python",
   "pygments_lexer": "ipython3",
   "version": "3.11.9"
  }
 },
 "nbformat": 4,
 "nbformat_minor": 5
}
