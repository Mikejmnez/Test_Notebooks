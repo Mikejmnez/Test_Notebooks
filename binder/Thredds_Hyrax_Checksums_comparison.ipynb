{
 "cells": [
  {
   "cell_type": "markdown",
   "id": "bf09e1d7-abdc-4582-a958-cee106246c41",
   "metadata": {},
   "source": [
    "# Checksum consistency of Dap Responses across Server Implementations\n",
    "\n",
    "\n",
    "- Checks that Thredds data server and Hyrax data server return the same data given the request from a DAP4 client\n",
    "- Makes use of a very lightweight file that is currently available via [TDS](https://thredds-test.unidata.ucar.edu/thredds/dap4/dev/d4icomp/restricted/SimpleGroup.nc4) and [Hyrax](http://test.opendap.org/opendap/dap4/SimpleGroup.nc4.h5.dmr) server implementations. \n",
    "\n",
    "\n",
    "### requirements\n",
    "- numpy\n",
    "- pydap (installed from source: `pip install git+https://github.com/pydap/pydap.git`\n",
    "- jupyterlab"
   ]
  },
  {
   "cell_type": "code",
   "execution_count": null,
   "id": "bec08613-c097-496b-888c-6b523c888971",
   "metadata": {},
   "outputs": [],
   "source": [
    "# %load_ext autoreload\n",
    "# %autoreload 2"
   ]
  },
  {
   "cell_type": "code",
   "execution_count": 1,
   "id": "678028a4-4646-464e-a3cc-85a42815c471",
   "metadata": {},
   "outputs": [],
   "source": [
    "from pydap.client import get_cmr_urls, open_url\n",
    "from pydap.net import create_session\n",
    "import numpy as np\n",
    "import pydap"
   ]
  },
  {
   "cell_type": "code",
   "execution_count": 2,
   "id": "ad221efc-ef1b-4e7a-97f9-10d88a4c3728",
   "metadata": {},
   "outputs": [
    {
     "data": {
      "text/plain": [
       "'3.5.7.dev5+g3ccdfe597'"
      ]
     },
     "execution_count": 2,
     "metadata": {},
     "output_type": "execute_result"
    }
   ],
   "source": [
    "pydap.__version__"
   ]
  },
  {
   "cell_type": "code",
   "execution_count": 3,
   "id": "4b7c4ac0-3523-4321-849d-71bb2cae9455",
   "metadata": {},
   "outputs": [],
   "source": [
    "my_session=create_session(use_cache=True, cache_kwargs={'cache_name':'debug'})\n",
    "my_session.cache.clear()"
   ]
  },
  {
   "cell_type": "code",
   "execution_count": 4,
   "id": "397c6fff-a8c9-4bfd-a1c7-8062cc0dfdf3",
   "metadata": {},
   "outputs": [],
   "source": [
    "hyx_url = \"dap4://test.opendap.org/opendap/dap4/SimpleGroup.nc4.h5\"\n",
    "tds_url = \"dap4://thredds-test.unidata.ucar.edu/thredds/dap4/dev/d4icomp/restricted/SimpleGroup.nc4\""
   ]
  },
  {
   "cell_type": "code",
   "execution_count": 5,
   "id": "674605c9-6a6e-4f7d-bff4-8a4a2bb4aa3a",
   "metadata": {},
   "outputs": [
    {
     "name": "stdout",
     "output_type": "stream",
     "text": [
      ".SimpleGroup.nc4\n",
      "├──SimpleGroup\n",
      "│  ├──Temperature\n",
      "│  ├──Salinity\n",
      "│  ├──Y\n",
      "│  └──X\n",
      "├──Pressure\n",
      "├──time_bnds\n",
      "├──time\n",
      "└──Z\n"
     ]
    }
   ],
   "source": [
    "pyds = open_url(tds_url, session=my_session, checksums=True, batch=True)\n",
    "pyds.tree()"
   ]
  },
  {
   "cell_type": "markdown",
   "id": "cf22ff89-7b7e-46a4-a628-dc47d1ef448a",
   "metadata": {},
   "source": [
    "## this works well\n",
    "\n",
    "Downbload decode a single variable within a dap response"
   ]
  },
  {
   "cell_type": "code",
   "execution_count": 6,
   "id": "5a2f6c4b-30af-460e-ad86-80a80948e2aa",
   "metadata": {},
   "outputs": [
    {
     "data": {
      "text/plain": [
       "array([0.5], dtype=float32)"
      ]
     },
     "execution_count": 6,
     "metadata": {},
     "output_type": "execute_result"
    }
   ],
   "source": [
    "np.asarray(pyds['time'][:].data) # <--- this is correct!"
   ]
  },
  {
   "cell_type": "code",
   "execution_count": 7,
   "id": "cd19e105-8b58-4a7e-89e2-cf9125bf00ee",
   "metadata": {},
   "outputs": [
    {
     "data": {
      "text/plain": [
       "['https://thredds-test.unidata.ucar.edu/thredds/dap4/dev/d4icomp/restricted/SimpleGroup.nc4.dap?dap4.ce=time%5B0%3A1%3A0%5D&dap4.checksum=true',\n",
       " 'https://thredds-test.unidata.ucar.edu/thredds/dap4/dev/d4icomp/restricted/SimpleGroup.nc4.dmr']"
      ]
     },
     "execution_count": 7,
     "metadata": {},
     "output_type": "execute_result"
    }
   ],
   "source": [
    "my_session.cache.urls()"
   ]
  },
  {
   "cell_type": "code",
   "execution_count": 8,
   "id": "4650c976-daba-498a-a269-93d9a1145f3f",
   "metadata": {},
   "outputs": [],
   "source": [
    "my_session.cache.clear() # clear the cached urls"
   ]
  },
  {
   "cell_type": "markdown",
   "id": "053a7072-b86a-4599-8a84-415ddd1f9b85",
   "metadata": {},
   "source": [
    "## this also works well\n",
    "\n",
    "Download/decode 2 variables within same response. The two variables live within the same Group: `SimpleGroup`"
   ]
  },
  {
   "cell_type": "code",
   "execution_count": 9,
   "id": "595ef277-7ace-4632-b6a7-dc0fec5eaadb",
   "metadata": {},
   "outputs": [],
   "source": [
    "# trigger download subset of 2 variables at once\n",
    "X = pyds['SimpleGroup/X'][:].data;\n",
    "Salt = pyds['SimpleGroup/Salinity'][0,10:20,10:20].data;"
   ]
  },
  {
   "cell_type": "code",
   "execution_count": 10,
   "id": "aadcf7ee-4ef6-4aeb-aacd-a19ef0edadb2",
   "metadata": {},
   "outputs": [
    {
     "data": {
      "text/plain": [
       "array([ 0,  1,  2,  3,  4,  5,  6,  7,  8,  9, 10, 11, 12, 13, 14, 15, 16,\n",
       "       17, 18, 19, 20, 21, 22, 23, 24, 25, 26, 27, 28, 29, 30, 31, 32, 33,\n",
       "       34, 35, 36, 37, 38, 39], dtype=int16)"
      ]
     },
     "execution_count": 10,
     "metadata": {},
     "output_type": "execute_result"
    }
   ],
   "source": [
    "np.asarray(X) # <----- this is correct"
   ]
  },
  {
   "cell_type": "code",
   "execution_count": 11,
   "id": "939b1b35-7e01-41f9-8080-c28dc6da5912",
   "metadata": {},
   "outputs": [
    {
     "data": {
      "text/plain": [
       "array([[[30., 30., 30., 30., 30., 30., 30., 30., 30., 30.],\n",
       "        [30., 30., 30., 30., 30., 30., 30., 30., 30., 30.],\n",
       "        [30., 30., 30., 30., 30., 30., 30., 30., 30., 30.],\n",
       "        [30., 30., 30., 30., 30., 30., 30., 30., 30., 30.],\n",
       "        [30., 30., 30., 30., 30., 30., 30., 30., 30., 30.],\n",
       "        [30., 30., 30., 30., 30., 30., 30., 30., 30., 30.],\n",
       "        [30., 30., 30., 30., 30., 30., 30., 30., 30., 30.],\n",
       "        [30., 30., 30., 30., 30., 30., 30., 30., 30., 30.],\n",
       "        [30., 30., 30., 30., 30., 30., 30., 30., 30., 30.],\n",
       "        [30., 30., 30., 30., 30., 30., 30., 30., 30., 30.]]],\n",
       "      dtype=float32)"
      ]
     },
     "execution_count": 11,
     "metadata": {},
     "output_type": "execute_result"
    }
   ],
   "source": [
    "np.asarray(Salt) # <----- this is also correct"
   ]
  },
  {
   "cell_type": "code",
   "execution_count": 12,
   "id": "09e58da5-73eb-4e32-a5bd-1ec10669e864",
   "metadata": {},
   "outputs": [
    {
     "data": {
      "text/plain": [
       "['https://thredds-test.unidata.ucar.edu/thredds/dap4/dev/d4icomp/restricted/SimpleGroup.nc4.dap?dap4.ce=%2FSimpleGroup%2FSalinity%5B0%3A1%3A0%5D%5B10%3A1%3A19%5D%5B10%3A1%3A19%5D%3B%2FSimpleGroup%2FX%5B0%3A1%3A39%5D&dap4.checksum=true']"
      ]
     },
     "execution_count": 12,
     "metadata": {},
     "output_type": "execute_result"
    }
   ],
   "source": [
    "my_session.cache.urls()"
   ]
  },
  {
   "cell_type": "code",
   "execution_count": 13,
   "id": "cf74e459-70e9-4e8c-a561-7541e46d22fc",
   "metadata": {},
   "outputs": [
    {
     "data": {
      "text/plain": [
       "'https://thredds-test.unidata.ucar.edu/thredds/dap4/dev/d4icomp/restricted/SimpleGroup.nc4.dap?dap4.ce=/SimpleGroup/Salinity[0:1:0][10:1:19][10:1:19];/SimpleGroup/X[0:1:39]&dap4.checksum=true'"
      ]
     },
     "execution_count": 13,
     "metadata": {},
     "output_type": "execute_result"
    }
   ],
   "source": [
    "my_session.cache.urls()[0].replace(\"%2F\",\"/\").replace(\"%5B\",\"[\").replace(\"%5D\",\"]\").replace(\"%3A\",\":\").replace(\"%3B\",\";\")"
   ]
  },
  {
   "cell_type": "markdown",
   "id": "7505d8a0-69b0-42a5-b32e-02dc3e05fe16",
   "metadata": {},
   "source": [
    "## Including variables of different hierarchy fails!!\n",
    "\n",
    "perhaps something about the change in the hierarchy"
   ]
  },
  {
   "cell_type": "code",
   "execution_count": 14,
   "id": "22c2ab61-d814-490d-af5b-4ac9cbe6a281",
   "metadata": {},
   "outputs": [],
   "source": [
    "my_session.cache.clear() # clear the cached urls"
   ]
  },
  {
   "cell_type": "code",
   "execution_count": 15,
   "id": "8d83965a-bf7b-415a-9327-4d97f4eccf6f",
   "metadata": {},
   "outputs": [],
   "source": [
    "time = pyds['/time'][:].data;\n",
    "X = pyds['/SimpleGroup/X'][:].data;"
   ]
  },
  {
   "cell_type": "code",
   "execution_count": 16,
   "id": "0cb75da4-1f49-48e3-b38d-ead93dbf89ae",
   "metadata": {},
   "outputs": [
    {
     "data": {
      "text/plain": [
       "array([3.581638e-39], dtype=float32)"
      ]
     },
     "execution_count": 16,
     "metadata": {},
     "output_type": "execute_result"
    }
   ],
   "source": [
    "np.asarray(time) # <------------------------------------- this is no longer correct"
   ]
  },
  {
   "cell_type": "code",
   "execution_count": 17,
   "id": "858a0fcb-54de-40e0-828b-e53a40e95896",
   "metadata": {},
   "outputs": [
    {
     "data": {
      "text/plain": [
       "array([     0,  16128,  -3551, -26846,      0,      1,      2,      3,\n",
       "            4,      5,      6,      7,      8,      9,     10,     11,\n",
       "           12,     13,     14,     15,     16,     17,     18,     19,\n",
       "           20,     21,     22,     23,     24,     25,     26,     27,\n",
       "           28,     29,     30,     31,     32,     33,     34,     35],\n",
       "      dtype=int16)"
      ]
     },
     "execution_count": 17,
     "metadata": {},
     "output_type": "execute_result"
    }
   ],
   "source": [
    "np.asarray(X) # <------------------------------------- some of the elements are incorrect"
   ]
  },
  {
   "cell_type": "code",
   "execution_count": 18,
   "id": "4e60ef22-844e-4d22-b753-36e5cc8bb5d5",
   "metadata": {},
   "outputs": [
    {
     "data": {
      "text/plain": [
       "['https://thredds-test.unidata.ucar.edu/thredds/dap4/dev/d4icomp/restricted/SimpleGroup.nc4.dap?dap4.ce=%2FSimpleGroup%2FX%5B0%3A1%3A39%5D%3Btime%5B0%3A1%3A0%5D&dap4.checksum=true']"
      ]
     },
     "execution_count": 18,
     "metadata": {},
     "output_type": "execute_result"
    }
   ],
   "source": [
    "my_session.cache.urls()"
   ]
  },
  {
   "cell_type": "code",
   "execution_count": 19,
   "id": "288e97b6-5646-47e7-b8ad-fd41bfd48653",
   "metadata": {},
   "outputs": [
    {
     "data": {
      "text/plain": [
       "'https://thredds-test.unidata.ucar.edu/thredds/dap4/dev/d4icomp/restricted/SimpleGroup.nc4.dap?dap4.ce=/SimpleGroup/X[0:1:39];time[0:1:0]&dap4.checksum=true'"
      ]
     },
     "execution_count": 19,
     "metadata": {},
     "output_type": "execute_result"
    }
   ],
   "source": [
    "my_session.cache.urls()[0].replace(\"%2F\",\"/\").replace(\"%5B\",\"[\").replace(\"%5D\",\"]\").replace(\"%3A\",\":\").replace(\"%3B\",\";\")"
   ]
  },
  {
   "cell_type": "markdown",
   "id": "e198f5c5-dd01-4522-b8ca-7cf145047d06",
   "metadata": {},
   "source": [
    "## Lets look at the response"
   ]
  },
  {
   "cell_type": "code",
   "execution_count": 20,
   "id": "7c4c2b98-f9ae-497c-a657-c2d8b1942b40",
   "metadata": {},
   "outputs": [
    {
     "data": {
      "text/plain": [
       "CachedResponse(_content=b'\\x04\\x00\\x04:<?xml version=\"1.0\" encoding=\"UTF-8\" standalone=\"yes\"?>\\r\\n<Dataset\\r\\n         name=\"SimpleGroup.nc4\"\\r\\n         dapVersion=\"4.0\"\\r\\n         dmrVersion=\"1.0\"\\r\\n         xmlns=\"http://xml.opendap.org/ns/DAP/4.0#\"\\r\\n         xmlns:dap=\"http://xml.opendap.org/ns/DAP/4.0#\">\\r\\n    <Float32 name=\"time\">\\r\\n        <Dim size=\"1\"/>\\r\\n        <Attribute name=\"_DAP4_Checksum_CRC32\" type=\"Int32\">\\r\\n            <Value value=\"2535649825\"/>\\r\\n        </Attribute>\\r\\n    </Float32>\\r\\n    <Attribute name=\"_NCProperties\" type=\"String\">\\r\\n        <Value value=\"version=2,netcdf=4.9.2,hdf5=1.14.3\"/>\\r\\n    </Attribute>\\r\\n    <Attribute name=\"_dap4.ce\" type=\"String\">\\r\\n        <Value value=\"/SimpleGroup/X[0:39];/time[0]\"/>\\r\\n    </Attribute>\\r\\n    <Attribute name=\"_DAP4_Little_Endian\" type=\"UInt8\">\\r\\n        <Value value=\"1\"/>\\r\\n    </Attribute>\\r\\n    <Group name=\"SimpleGroup\">\\r\\n        <Int16 name=\"X\">\\r\\n            <Dim size=\"40\"/>\\r\\n            <Attribute name=\"_DAP4_Checksum_CRC32\" type=\"Int32\">\\r\\n                <Value value=\"3869828658\"/>\\r\\n            </Attribute>\\r\\n        </Int16>\\r\\n    </Group>\\r\\n</Dataset>\\r\\n\\x01\\x00\\x00\\\\\\x00\\x00\\x00?!\\xf2\"\\x97\\x00\\x00\\x01\\x00\\x02\\x00\\x03\\x00\\x04\\x00\\x05\\x00\\x06\\x00\\x07\\x00\\x08\\x00\\t\\x00\\n\\x00\\x0b\\x00\\x0c\\x00\\r\\x00\\x0e\\x00\\x0f\\x00\\x10\\x00\\x11\\x00\\x12\\x00\\x13\\x00\\x14\\x00\\x15\\x00\\x16\\x00\\x17\\x00\\x18\\x00\\x19\\x00\\x1a\\x00\\x1b\\x00\\x1c\\x00\\x1d\\x00\\x1e\\x00\\x1f\\x00 \\x00!\\x00\"\\x00#\\x00$\\x00%\\x00&\\x00\\'\\x002\\xe6\\xa8\\xe6', created_at='2025-09-03 00:27:36.691361+00:00', elapsed=datetime.timedelta(microseconds=153223), headers={'Connection': 'Keep-Alive', 'Content-Security-Policy': \"default-src 'none'; base-uri 'self' https://www.opendap.org; form-action 'self'; frame-ancestors 'self'; frame-src 'self'; object-src 'none'; img-src 'self' data: https://a.tile.openstreetmap.org https://b.tile.openstreetmap.org https://c.tile.openstreetmap.org https://www.unidata.ucar.edu https://ahocevar.com; style-src 'self' 'unsafe-inline' https://necolas.github.io https://cdnjs.cloudflare.com; font-src 'self'; connect-src 'self'; media-src 'self'; manifest-src 'self'; worker-src 'self'; script-src 'self' 'unsafe-inline' 'unsafe-eval' https://cdnjs.cloudflare.com https://cdn.rawgit.com https://cdn.jsdelivr.net\", 'Content-Type': 'application/netcdf', 'Date': 'Wed, 03 Sep 2025 00:27:36 GMT', 'Keep-Alive': 'timeout=5, max=100', 'Server': 'Apache', 'Strict-Transport-Security': 'max-age=63072000; includeSubdomains;', 'Transfer-Encoding': 'chunked', 'X-Content-Type-Options': 'nosniff', 'X-Frame-Options': 'SAMEORIGIN', 'X-XSS-Protection': '1; mode=block'}, reason='200', request=CachedRequest(body=b'', cookies=<RequestsCookieJar[Cookie(version=0, name='JSESSIONID', value='0CE172297AE5F5DEE49C961E1B0BB7FB', port=None, port_specified=False, domain='', domain_specified=False, domain_initial_dot=False, path='/', path_specified=True, secure=False, expires=None, discard=True, comment=None, comment_url=None, rest={'HttpOnly': None}, rfc2109=False)]>, headers={'Accept': '*/*', 'Accept-Encoding': 'gzip, deflate, br, zstd', 'Authorization': 'REDACTED', 'Connection': 'keep-alive', 'Cookie': 'JSESSIONID=0CE172297AE5F5DEE49C961E1B0BB7FB', 'User-Agent': 'pydap/3.5.7'}, method='GET', url='https://thredds-test.unidata.ucar.edu/thredds/dap4/dev/d4icomp/restricted/SimpleGroup.nc4.dap?dap4.ce=%2FSimpleGroup%2FX%5B0%3A1%3A39%5D%3Btime%5B0%3A1%3A0%5D&dap4.checksum=true'), status_code=200, url='https://thredds-test.unidata.ucar.edu/thredds/dap4/dev/d4icomp/restricted/SimpleGroup.nc4.dap?dap4.ce=%2FSimpleGroup%2FX%5B0%3A1%3A39%5D%3Btime%5B0%3A1%3A0%5D&dap4.checksum=true')"
      ]
     },
     "execution_count": 20,
     "metadata": {},
     "output_type": "execute_result"
    }
   ],
   "source": [
    "my_session.get(my_session.cache.urls()[0])"
   ]
  },
  {
   "cell_type": "markdown",
   "id": "42751b3a-4189-4692-9484-7b3b1cd1408a",
   "metadata": {},
   "source": [
    "# Now Try Same Approach With Hyrax\n",
    "\n",
    "All scenarios work, including the one below:\n"
   ]
  },
  {
   "cell_type": "code",
   "execution_count": 21,
   "id": "f08898fc-ab9c-418f-a4e4-21594def636f",
   "metadata": {},
   "outputs": [],
   "source": [
    "my_session.cache.clear() # clear the cached urls"
   ]
  },
  {
   "cell_type": "code",
   "execution_count": 22,
   "id": "34c58a8a-6bed-4dbb-b684-b47b1349d6dd",
   "metadata": {},
   "outputs": [
    {
     "name": "stdout",
     "output_type": "stream",
     "text": [
      ".SimpleGroup.nc4.h5\n",
      "├──SimpleGroup\n",
      "│  ├──Y\n",
      "│  ├──X\n",
      "│  ├──Temperature\n",
      "│  └──Salinity\n",
      "├──time\n",
      "├──Z\n",
      "├──Pressure\n",
      "└──time_bnds\n"
     ]
    }
   ],
   "source": [
    "pyds = open_url(hyx_url, session=my_session, checksums=True, batch=True)\n",
    "pyds.tree()"
   ]
  },
  {
   "cell_type": "code",
   "execution_count": 23,
   "id": "bb1c4363-1de2-4b18-b619-67309e737f5b",
   "metadata": {},
   "outputs": [],
   "source": [
    "time = pyds['/time'][:].data;\n",
    "X = pyds['/SimpleGroup/X'][:].data;"
   ]
  },
  {
   "cell_type": "markdown",
   "id": "8cdbcf23-cbfd-4101-afc8-1982d9b0d2c2",
   "metadata": {},
   "source": [
    "## not an issue with hyrax"
   ]
  },
  {
   "cell_type": "code",
   "execution_count": 24,
   "id": "934f664b-f239-4ca7-8382-2482e43eadbc",
   "metadata": {},
   "outputs": [
    {
     "data": {
      "text/plain": [
       "array([0.5], dtype=float32)"
      ]
     },
     "execution_count": 24,
     "metadata": {},
     "output_type": "execute_result"
    }
   ],
   "source": [
    "np.asarray(time)"
   ]
  },
  {
   "cell_type": "code",
   "execution_count": 25,
   "id": "a311b158-5fb3-484e-a6db-d5509ada5407",
   "metadata": {},
   "outputs": [
    {
     "data": {
      "text/plain": [
       "array([ 0,  1,  2,  3,  4,  5,  6,  7,  8,  9, 10, 11, 12, 13, 14, 15, 16,\n",
       "       17, 18, 19, 20, 21, 22, 23, 24, 25, 26, 27, 28, 29, 30, 31, 32, 33,\n",
       "       34, 35, 36, 37, 38, 39], dtype=int16)"
      ]
     },
     "execution_count": 25,
     "metadata": {},
     "output_type": "execute_result"
    }
   ],
   "source": [
    "np.asarray(X)"
   ]
  },
  {
   "cell_type": "markdown",
   "id": "d8092932-a744-4e55-a601-fd460ccce980",
   "metadata": {},
   "source": [
    "## take a look at the response from Hyrax\n"
   ]
  },
  {
   "cell_type": "code",
   "execution_count": 26,
   "id": "73b294bd-86ca-4fed-9a1e-1369d368a786",
   "metadata": {},
   "outputs": [
    {
     "data": {
      "text/plain": [
       "'http://test.opendap.org/opendap/dap4/SimpleGroup.nc4.h5.dap?dap4.ce=/SimpleGroup/X[0:1:39];time[0:1:0]&dap4.checksum=true'"
      ]
     },
     "execution_count": 26,
     "metadata": {},
     "output_type": "execute_result"
    }
   ],
   "source": [
    "my_session.cache.urls()[0].replace(\"%2F\",\"/\").replace(\"%5B\",\"[\").replace(\"%5D\",\"]\").replace(\"%3A\",\":\").replace(\"%3B\",\";\")"
   ]
  },
  {
   "cell_type": "code",
   "execution_count": 27,
   "id": "6155bbb6-565d-415a-809f-4cf8ac843d0c",
   "metadata": {},
   "outputs": [
    {
     "data": {
      "text/plain": [
       "CachedResponse(_content=b'\\x04\\x00\\x02\\x16<?xml version=\"1.0\" encoding=\"ISO-8859-1\"?>\\n<Dataset xmlns=\"http://xml.opendap.org/ns/DAP/4.0#\" xml:base=\"http://test.opendap.org/opendap/dap4/SimpleGroup.nc4.h5\" dapVersion=\"4.0\" dmrVersion=\"1.0\" name=\"SimpleGroup.nc4.h5\">\\n    <Float32 name=\"time\">\\n        <Dim size=\"1\"/>\\n    </Float32>\\n    <Attribute name=\"description\" type=\"String\">\\n        <Value>A simple group for testing.</Value>\\n    </Attribute>\\n    <Group name=\"SimpleGroup\">\\n        <Int16 name=\"X\">\\n            <Dim size=\"40\"/>\\n        </Int16>\\n    </Group>\\n</Dataset>\\n\\r\\n\\x04\\x00\\x00\\\\\\x00\\x00\\x01\\x00\\x02\\x00\\x03\\x00\\x04\\x00\\x05\\x00\\x06\\x00\\x07\\x00\\x08\\x00\\t\\x00\\n\\x00\\x0b\\x00\\x0c\\x00\\r\\x00\\x0e\\x00\\x0f\\x00\\x10\\x00\\x11\\x00\\x12\\x00\\x13\\x00\\x14\\x00\\x15\\x00\\x16\\x00\\x17\\x00\\x18\\x00\\x19\\x00\\x1a\\x00\\x1b\\x00\\x1c\\x00\\x1d\\x00\\x1e\\x00\\x1f\\x00 \\x00!\\x00\"\\x00#\\x00$\\x00%\\x00&\\x00\\'\\x002\\xe6\\xa8\\xe6\\x00\\x00\\x00?!\\xf2\"\\x97\\x05\\x00\\x00\\x00', created_at='2025-09-03 00:27:56.543952+00:00', elapsed=datetime.timedelta(microseconds=142057), headers={'Connection': 'Keep-Alive', 'Content-Description': 'application/vnd.opendap.dap4.data', 'Content-Disposition': 'attachment; filename=\"SimpleGroup.nc4.h5.dap\"', 'Content-Type': 'application/vnd.opendap.dap4.data', 'Date': 'Wed, 03 Sep 2025 00:27:56 GMT', 'Keep-Alive': 'timeout=5, max=99', 'Last-Modified': 'Sun, 13 Apr 2025 01:34:22 GMT', 'Server': 'Apache/2.4.56 (Unix)', 'Transfer-Encoding': 'chunked', 'X-DAP': '3.2', 'X-FRAME-OPTIONS': 'DENY', 'XDODS-Server': 'dods/3.2', 'XOPeNDAP-Server': 'asciival/, bes/, csv_handler/, dapreader_module/, dmrpp_module/, fileout_covjson/, fileout_json/, fileout_netcdf/, freeform_handler/, functions/, gateway/, gdal_module/, hdf4_handler/, hdf5_handler/, libdap/, ncml_moddule/, netcdf_handler/, s3_reader/, usage/, w10n_handler/, xml_data_handler/'}, reason='200', request=CachedRequest(body=b'', cookies=<RequestsCookieJar[Cookie(version=0, name='JSESSIONID', value='0CE172297AE5F5DEE49C961E1B0BB7FB', port=None, port_specified=False, domain='', domain_specified=False, domain_initial_dot=False, path='/', path_specified=True, secure=False, expires=None, discard=True, comment=None, comment_url=None, rest={'HttpOnly': None}, rfc2109=False)]>, headers={'Accept': '*/*', 'Accept-Encoding': 'gzip, deflate, br, zstd', 'Connection': 'keep-alive', 'User-Agent': 'pydap/3.5.7'}, method='GET', url='http://test.opendap.org/opendap/dap4/SimpleGroup.nc4.h5.dap?dap4.ce=%2FSimpleGroup%2FX%5B0%3A1%3A39%5D%3Btime%5B0%3A1%3A0%5D&dap4.checksum=true'), status_code=200, url='http://test.opendap.org/opendap/dap4/SimpleGroup.nc4.h5.dap?dap4.ce=%2FSimpleGroup%2FX%5B0%3A1%3A39%5D%3Btime%5B0%3A1%3A0%5D&dap4.checksum=true')"
      ]
     },
     "execution_count": 27,
     "metadata": {},
     "output_type": "execute_result"
    }
   ],
   "source": [
    "my_session.get(my_session.cache.urls()[0])"
   ]
  },
  {
   "cell_type": "code",
   "execution_count": null,
   "id": "576e454d-37a5-42c9-ab2e-094144ba19fc",
   "metadata": {},
   "outputs": [],
   "source": []
  }
 ],
 "metadata": {
  "kernelspec": {
   "display_name": "Python 3 (ipykernel)",
   "language": "python",
   "name": "python3"
  },
  "language_info": {
   "codemirror_mode": {
    "name": "ipython",
    "version": 3
   },
   "file_extension": ".py",
   "mimetype": "text/x-python",
   "name": "python",
   "nbconvert_exporter": "python",
   "pygments_lexer": "ipython3",
   "version": "3.11.13"
  }
 },
 "nbformat": 4,
 "nbformat_minor": 5
}
